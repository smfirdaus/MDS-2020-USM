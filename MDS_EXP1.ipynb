{
 "cells": [
  {
   "cell_type": "markdown",
   "metadata": {
    "toc": true
   },
   "source": [
    "<h1>Table of Contents<span class=\"tocSkip\"></span></h1>\n",
    "<div class=\"toc\"><ul class=\"toc-item\"><li><span><a href=\"#DATA-UNDERSTANDING\" data-toc-modified-id=\"DATA-UNDERSTANDING-1\"><span class=\"toc-item-num\">1&nbsp;&nbsp;</span>DATA UNDERSTANDING</a></span><ul class=\"toc-item\"><li><span><a href=\"#Import-libraries-and-dataset\" data-toc-modified-id=\"Import-libraries-and-dataset-1.1\"><span class=\"toc-item-num\">1.1&nbsp;&nbsp;</span>Import libraries and dataset</a></span></li><li><span><a href=\"#Inspect-dataset-A\" data-toc-modified-id=\"Inspect-dataset-A-1.2\"><span class=\"toc-item-num\">1.2&nbsp;&nbsp;</span>Inspect dataset A</a></span></li><li><span><a href=\"#Inspect-dataset-B\" data-toc-modified-id=\"Inspect-dataset-B-1.3\"><span class=\"toc-item-num\">1.3&nbsp;&nbsp;</span>Inspect dataset B</a></span></li><li><span><a href=\"#Inspect-dataset-C\" data-toc-modified-id=\"Inspect-dataset-C-1.4\"><span class=\"toc-item-num\">1.4&nbsp;&nbsp;</span>Inspect dataset C</a></span></li><li><span><a href=\"#Inspect-dataset-D\" data-toc-modified-id=\"Inspect-dataset-D-1.5\"><span class=\"toc-item-num\">1.5&nbsp;&nbsp;</span>Inspect dataset D</a></span></li><li><span><a href=\"#Dataset-summary\" data-toc-modified-id=\"Dataset-summary-1.6\"><span class=\"toc-item-num\">1.6&nbsp;&nbsp;</span>Dataset summary</a></span></li><li><span><a href=\"#Explore-dataset-A\" data-toc-modified-id=\"Explore-dataset-A-1.7\"><span class=\"toc-item-num\">1.7&nbsp;&nbsp;</span>Explore dataset A</a></span></li><li><span><a href=\"#Explore-dataset-B\" data-toc-modified-id=\"Explore-dataset-B-1.8\"><span class=\"toc-item-num\">1.8&nbsp;&nbsp;</span>Explore dataset B</a></span></li><li><span><a href=\"#Explore-dataset-C\" data-toc-modified-id=\"Explore-dataset-C-1.9\"><span class=\"toc-item-num\">1.9&nbsp;&nbsp;</span>Explore dataset C</a></span></li><li><span><a href=\"#Explore-dataset-D\" data-toc-modified-id=\"Explore-dataset-D-1.10\"><span class=\"toc-item-num\">1.10&nbsp;&nbsp;</span>Explore dataset D</a></span></li></ul></li><li><span><a href=\"#DATA-PREPARATION\" data-toc-modified-id=\"DATA-PREPARATION-2\"><span class=\"toc-item-num\">2&nbsp;&nbsp;</span>DATA PREPARATION</a></span><ul class=\"toc-item\"><li><span><a href=\"#Data-selection\" data-toc-modified-id=\"Data-selection-2.1\"><span class=\"toc-item-num\">2.1&nbsp;&nbsp;</span>Data selection</a></span></li><li><span><a href=\"#Data-standardization\" data-toc-modified-id=\"Data-standardization-2.2\"><span class=\"toc-item-num\">2.2&nbsp;&nbsp;</span>Data standardization</a></span></li><li><span><a href=\"#Dimensionality-Reduction-V1\" data-toc-modified-id=\"Dimensionality-Reduction-V1-2.3\"><span class=\"toc-item-num\">2.3&nbsp;&nbsp;</span>Dimensionality Reduction V1</a></span></li><li><span><a href=\"#Dimensionality-Reduction-V2\" data-toc-modified-id=\"Dimensionality-Reduction-V2-2.4\"><span class=\"toc-item-num\">2.4&nbsp;&nbsp;</span>Dimensionality Reduction V2</a></span></li><li><span><a href=\"#Dimensionality-Reduction-V3\" data-toc-modified-id=\"Dimensionality-Reduction-V3-2.5\"><span class=\"toc-item-num\">2.5&nbsp;&nbsp;</span>Dimensionality Reduction V3</a></span></li></ul></li><li><span><a href=\"#MODELING\" data-toc-modified-id=\"MODELING-3\"><span class=\"toc-item-num\">3&nbsp;&nbsp;</span>MODELING</a></span><ul class=\"toc-item\"><li><span><a href=\"#Bayes-classification\" data-toc-modified-id=\"Bayes-classification-3.1\"><span class=\"toc-item-num\">3.1&nbsp;&nbsp;</span>Bayes classification</a></span></li><li><span><a href=\"#k-Nearest-Neighbor-(kNN)\" data-toc-modified-id=\"k-Nearest-Neighbor-(kNN)-3.2\"><span class=\"toc-item-num\">3.2&nbsp;&nbsp;</span>k-Nearest Neighbor (kNN)</a></span></li><li><span><a href=\"#Support-Vector-Machine-(SVM)\" data-toc-modified-id=\"Support-Vector-Machine-(SVM)-3.3\"><span class=\"toc-item-num\">3.3&nbsp;&nbsp;</span>Support Vector Machine (SVM)</a></span></li><li><span><a href=\"#Random-Forest\" data-toc-modified-id=\"Random-Forest-3.4\"><span class=\"toc-item-num\">3.4&nbsp;&nbsp;</span>Random Forest</a></span></li><li><span><a href=\"#Artificial-Neural-Network-(ANN)\" data-toc-modified-id=\"Artificial-Neural-Network-(ANN)-3.5\"><span class=\"toc-item-num\">3.5&nbsp;&nbsp;</span>Artificial Neural Network (ANN)</a></span></li></ul></li><li><span><a href=\"#EVALUATION\" data-toc-modified-id=\"EVALUATION-4\"><span class=\"toc-item-num\">4&nbsp;&nbsp;</span>EVALUATION</a></span><ul class=\"toc-item\"><li><span><a href=\"#Accuracy\" data-toc-modified-id=\"Accuracy-4.1\"><span class=\"toc-item-num\">4.1&nbsp;&nbsp;</span>Accuracy</a></span></li><li><span><a href=\"#Confusion-matrix\" data-toc-modified-id=\"Confusion-matrix-4.2\"><span class=\"toc-item-num\">4.2&nbsp;&nbsp;</span>Confusion matrix</a></span></li><li><span><a href=\"#Area-Under-Curve-(AUC)\" data-toc-modified-id=\"Area-Under-Curve-(AUC)-4.3\"><span class=\"toc-item-num\">4.3&nbsp;&nbsp;</span>Area Under Curve (AUC)</a></span></li><li><span><a href=\"#F-measure-(or-F-score)\" data-toc-modified-id=\"F-measure-(or-F-score)-4.4\"><span class=\"toc-item-num\">4.4&nbsp;&nbsp;</span>F-measure (or F-score)</a></span></li></ul></li></ul></div>"
   ]
  },
  {
   "cell_type": "markdown",
   "metadata": {
    "heading_collapsed": true
   },
   "source": [
    "# DATA UNDERSTANDING \n",
    "Data collection and description, exploratory data analysis, data quality"
   ]
  },
  {
   "cell_type": "markdown",
   "metadata": {
    "heading_collapsed": true,
    "hidden": true
   },
   "source": [
    "## Import libraries and dataset"
   ]
  },
  {
   "cell_type": "code",
   "execution_count": 1,
   "metadata": {
    "code_folding": [],
    "hidden": true
   },
   "outputs": [
    {
     "data": {
      "text/html": [
       "        <script type=\"text/javascript\">\n",
       "        window.PlotlyConfig = {MathJaxConfig: 'local'};\n",
       "        if (window.MathJax) {MathJax.Hub.Config({SVG: {font: \"STIX-Web\"}});}\n",
       "        if (typeof require !== 'undefined') {\n",
       "        require.undef(\"plotly\");\n",
       "        requirejs.config({\n",
       "            paths: {\n",
       "                'plotly': ['https://cdn.plot.ly/plotly-latest.min']\n",
       "            }\n",
       "        });\n",
       "        require(['plotly'], function(Plotly) {\n",
       "            window._Plotly = Plotly;\n",
       "        });\n",
       "        }\n",
       "        </script>\n",
       "        "
      ]
     },
     "metadata": {},
     "output_type": "display_data"
    }
   ],
   "source": [
    "# Import libraries\n",
    "import pandas as pd\n",
    "#import tkinter\n",
    "from matplotlib import pyplot as plt\n",
    "import numpy as np\n",
    "import seaborn as sns\n",
    "sns.set(style=\"white\")\n",
    "from plotly.offline import download_plotlyjs, init_notebook_mode, plot, iplot\n",
    "init_notebook_mode(connected=True)\n",
    "import pandas_profiling\n",
    "from pandas_profiling import ProfileReport"
   ]
  },
  {
   "cell_type": "code",
   "execution_count": 24,
   "metadata": {},
   "outputs": [],
   "source": [
    "import matplotlib\n",
    "matplotlib.use('TKAgg')\n",
    "%matplotlib inline"
   ]
  },
  {
   "cell_type": "code",
   "execution_count": 3,
   "metadata": {
    "code_folding": [],
    "hidden": true
   },
   "outputs": [],
   "source": [
    "# Load all 4 datasets\n",
    "dfA = pd.read_csv(\"MeterA\",sep='\\t',header=None, names=['flatr','symm','crossf','v1','v2','v3','v4','v5','v6','v7','v8','sos1','sos2','sos3','sos4','sos5','sos6','sos7','sos8','sos_avg','gain11','gain12','gain21','gain22','gain31','gain32','gain41','gain42','gain51','gain52','gain61','gain62','gain71','gain72','gain81','gain82','class'])\n",
    "dfB = pd.read_csv(\"MeterB\",sep='\\t',header=None, names=['flatr','symm','crossf','swirl','v1','v2','v3','v4','v_avg','sos1','sos2','sos3','sos4','sos_avg','ss11','ss12','ss21','ss22','ss31','ss32','ss41','ss42','turb1','turb2','turb3','turb4','perf','sq11','sq12','sq21','sq22','sq31','sq32','sq41','sq42','gain11','gain12','gain21','gain22','gain31','gain32','gain41','gain42','tt11','tt12','tt21','tt22','tt31','tt32','tt41','tt42','class'])\n",
    "dfC = pd.read_csv(\"MeterC\",sep='\\t',header=None, names=['flatr','symm','crossf','v1','v2','v3','v4','sos1','sos2','sos3','sos4','ss11','ss12','ss21','ss22','ss31','ss32','ss41','ss42','sq11','sq12','sq21','sq22','sq31','sq32','sq41','sq42','gain11','gain12','gain21','gain22','gain31','gain32','gain41','gain42','tt11','tt12','tt21','tt22','tt31','tt32','tt41','tt42','class'])\n",
    "dfD = pd.read_csv(\"MeterD\",sep='\\t',header=None, names=['flatr','symm','crossf','v1','v2','v3','v4','sos1','sos2','sos3','sos4','ss11','ss12','ss21','ss22','ss31','ss32','ss41','ss42','sq11','sq12','sq21','sq22','sq31','sq32','sq41','sq42','gain11','gain12','gain21','gain22','gain31','gain32','gain41','gain42','tt11','tt12','tt21','tt22','tt31','tt32','tt41','tt42','class'])"
   ]
  },
  {
   "cell_type": "markdown",
   "metadata": {
    "collapsed": "true",
    "heading_collapsed": true,
    "hidden": true
   },
   "source": [
    "## Inspect dataset A"
   ]
  },
  {
   "cell_type": "code",
   "execution_count": null,
   "metadata": {
    "code_folding": [],
    "hidden": true
   },
   "outputs": [],
   "source": [
    "# Visualize data\n",
    "print('------ Describe -------\\n')\n",
    "print(dfA.describe())\n",
    "#print('------ Info -------\\n')\n",
    "#print(dfA.dtypes)\n",
    "dfA.head(2)"
   ]
  },
  {
   "cell_type": "markdown",
   "metadata": {
    "collapsed": "true",
    "heading_collapsed": true,
    "hidden": true
   },
   "source": [
    "## Inspect dataset B"
   ]
  },
  {
   "cell_type": "code",
   "execution_count": null,
   "metadata": {
    "hidden": true
   },
   "outputs": [],
   "source": [
    "# Visualize data\n",
    "print('------ Describe -------\\n')\n",
    "print(dfB.describe())\n",
    "dfB.head(2)"
   ]
  },
  {
   "cell_type": "markdown",
   "metadata": {
    "collapsed": "true",
    "heading_collapsed": true,
    "hidden": true
   },
   "source": [
    "## Inspect dataset C"
   ]
  },
  {
   "cell_type": "code",
   "execution_count": null,
   "metadata": {
    "hidden": true
   },
   "outputs": [],
   "source": [
    "# Visualize data\n",
    "print('------ Describe -------\\n')\n",
    "print(dfC.describe())\n",
    "dfC.head(2)"
   ]
  },
  {
   "cell_type": "code",
   "execution_count": null,
   "metadata": {
    "hidden": true
   },
   "outputs": [],
   "source": [
    "dfC.info()"
   ]
  },
  {
   "cell_type": "markdown",
   "metadata": {
    "collapsed": "true",
    "heading_collapsed": true,
    "hidden": true
   },
   "source": [
    "## Inspect dataset D"
   ]
  },
  {
   "cell_type": "code",
   "execution_count": null,
   "metadata": {
    "hidden": true
   },
   "outputs": [],
   "source": [
    "# Visualize data\n",
    "print('------ Describe -------\\n')\n",
    "print(dfD.describe())\n",
    "dfD.head(2)"
   ]
  },
  {
   "cell_type": "markdown",
   "metadata": {
    "collapsed": "true",
    "heading_collapsed": true,
    "hidden": true
   },
   "source": [
    "## Dataset summary"
   ]
  },
  {
   "cell_type": "markdown",
   "metadata": {
    "hidden": true
   },
   "source": [
    "Dataset A consists of 87 entries, 37 features  \n",
    "Dataset B consists of 92 entries, 52 features  \n",
    "Dataset C consists of 181 entries, 44 features  \n",
    "Dataset D consists of 180 entries, 44 features"
   ]
  },
  {
   "cell_type": "markdown",
   "metadata": {
    "collapsed": "true",
    "heading_collapsed": true,
    "hidden": true
   },
   "source": [
    "## Explore dataset A"
   ]
  },
  {
   "cell_type": "code",
   "execution_count": null,
   "metadata": {
    "hidden": true
   },
   "outputs": [],
   "source": [
    "# clustermap heat map\n",
    "figA = plt.gcf()\n",
    "figA.set_size_inches(20, 20)\n",
    "sns.heatmap(np.around(dfA.corr(),2),square=True,annot=True,linewidths=.2)\n",
    "plt.show()"
   ]
  },
  {
   "cell_type": "code",
   "execution_count": null,
   "metadata": {
    "hidden": true
   },
   "outputs": [],
   "source": [
    "profA = ProfileReport(dfA)\n",
    "profA.to_file(output_file='profileMeterA.html')"
   ]
  },
  {
   "cell_type": "markdown",
   "metadata": {
    "collapsed": "true",
    "heading_collapsed": true,
    "hidden": true
   },
   "source": [
    "## Explore dataset B"
   ]
  },
  {
   "cell_type": "code",
   "execution_count": null,
   "metadata": {
    "hidden": true
   },
   "outputs": [],
   "source": [
    "# clustermap heat map\n",
    "figB = plt.gcf()\n",
    "figB.set_size_inches(20, 20)\n",
    "sns.heatmap(np.around(dfB.corr(),2),square=True,annot=True,linewidths=.2)\n",
    "plt.show()"
   ]
  },
  {
   "cell_type": "code",
   "execution_count": null,
   "metadata": {
    "hidden": true
   },
   "outputs": [],
   "source": [
    "profB = ProfileReport(dfA)\n",
    "profB.to_file(output_file='profileMeterB.html')"
   ]
  },
  {
   "cell_type": "markdown",
   "metadata": {
    "collapsed": "true",
    "heading_collapsed": true,
    "hidden": true
   },
   "source": [
    "## Explore dataset C"
   ]
  },
  {
   "cell_type": "code",
   "execution_count": null,
   "metadata": {
    "hidden": true
   },
   "outputs": [],
   "source": [
    "# clustermap heat map\n",
    "figC = plt.gcf()\n",
    "figC.set_size_inches(20, 20)\n",
    "sns.heatmap(np.around(dfC.corr(),2),square=True,annot=True,linewidths=.2)\n",
    "plt.savefig('heatdfC.png')\n",
    "plt.show()"
   ]
  },
  {
   "cell_type": "markdown",
   "metadata": {
    "hidden": true
   },
   "source": [
    "Comment: Generally, if the correlation between a pair of variables is greater than 0.5-0.6, we should seriously consider dropping one of those variables"
   ]
  },
  {
   "cell_type": "code",
   "execution_count": null,
   "metadata": {
    "hidden": true
   },
   "outputs": [],
   "source": [
    "profC = ProfileReport(dfA)\n",
    "profC.to_file(output_file='profMeterC.html')"
   ]
  },
  {
   "cell_type": "markdown",
   "metadata": {
    "collapsed": "true",
    "heading_collapsed": true,
    "hidden": true
   },
   "source": [
    "## Explore dataset D"
   ]
  },
  {
   "cell_type": "code",
   "execution_count": null,
   "metadata": {
    "hidden": true
   },
   "outputs": [],
   "source": [
    "# clustermap heat map\n",
    "figD = plt.gcf()\n",
    "figD.set_size_inches(20, 20)\n",
    "sns.heatmap(np.around(dfD.corr(),2),square=True,annot=True,linewidths=.2)\n",
    "plt.savefig('heatdfD.png')\n",
    "plt.show()"
   ]
  },
  {
   "cell_type": "code",
   "execution_count": null,
   "metadata": {
    "hidden": true
   },
   "outputs": [],
   "source": [
    "profD = ProfileReport(dfA)\n",
    "profD.to_file(output_file='profMeterD.html')"
   ]
  },
  {
   "cell_type": "markdown",
   "metadata": {},
   "source": [
    "# DATA PREPARATION\n",
    "Data selection & cleaning, feature engineering & standardization, and dimensionality reduction"
   ]
  },
  {
   "cell_type": "markdown",
   "metadata": {},
   "source": [
    "## Data selection\n",
    "Dataset C and D will be used for this problem."
   ]
  },
  {
   "cell_type": "markdown",
   "metadata": {},
   "source": [
    "## Data standardization\n",
    " All the variables should be on the same scale before applying PCA, otherwise, a feature with large values will dominate the result. \n",
    " Use StandardScaler in scikit-learn to standardize the dataset’s features onto the unit scale (mean = 0 and variance = 1)."
   ]
  },
  {
   "cell_type": "code",
   "execution_count": 48,
   "metadata": {
    "collapsed": true,
    "jupyter": {
     "outputs_hidden": true
    }
   },
   "outputs": [
    {
     "name": "stdout",
     "output_type": "stream",
     "text": [
      "[[-0.1012907   0.06568528  0.41234392 ...  0.28253179 -0.01873303\n",
      "  -0.04227513]\n",
      " [-0.10135229  0.06369015  0.4165761  ...  0.28472045 -0.02290984\n",
      "  -0.03470345]\n",
      " [-0.1014925   0.06030065  0.41894337 ...  0.28502086 -0.02124764\n",
      "  -0.03339215]\n",
      " ...\n",
      " [-0.15527315 -2.78517103 -2.40039277 ...  0.65777173 -0.01276615\n",
      "  -0.02975436]\n",
      " [-0.15527315 -2.78517103 -2.40039277 ...  0.65777173 -0.00756644\n",
      "  -0.03808744]\n",
      " [-0.15527315 -2.78517103 -2.40039277 ...  0.65777173 -0.19509689\n",
      "  -0.23423208]]\n"
     ]
    }
   ],
   "source": [
    "from sklearn.preprocessing import StandardScaler\n",
    "featuresC = ['flatr','symm','crossf','v1','v2','v3','v4','sos1','sos2','sos3','sos4','ss11','ss12','ss21','ss22','ss31','ss32','ss41','ss42','sq11','sq12','sq21','sq22','sq31','sq32','sq41','sq42','gain11','gain12','gain21','gain22','gain31','gain32','gain41','gain42','tt11','tt12','tt21','tt22','tt31','tt32','tt41','tt42']\n",
    "xC = dfC.loc[:, featuresC].values\n",
    "xCnoscale = dfC.loc[:, featuresC].values\n",
    "yC = dfC.loc[:,['class']].values\n",
    "scaler = StandardScaler()\n",
    "xC = scaler.fit_transform(xC)\n",
    "print(xC)"
   ]
  },
  {
   "cell_type": "code",
   "execution_count": 19,
   "metadata": {
    "collapsed": true,
    "jupyter": {
     "outputs_hidden": true
    }
   },
   "outputs": [
    {
     "data": {
      "text/html": [
       "<div>\n",
       "<style scoped>\n",
       "    .dataframe tbody tr th:only-of-type {\n",
       "        vertical-align: middle;\n",
       "    }\n",
       "\n",
       "    .dataframe tbody tr th {\n",
       "        vertical-align: top;\n",
       "    }\n",
       "\n",
       "    .dataframe thead th {\n",
       "        text-align: right;\n",
       "    }\n",
       "</style>\n",
       "<table border=\"1\" class=\"dataframe\">\n",
       "  <thead>\n",
       "    <tr style=\"text-align: right;\">\n",
       "      <th></th>\n",
       "      <th>0</th>\n",
       "      <th>1</th>\n",
       "      <th>2</th>\n",
       "      <th>3</th>\n",
       "      <th>4</th>\n",
       "      <th>5</th>\n",
       "      <th>6</th>\n",
       "      <th>7</th>\n",
       "      <th>8</th>\n",
       "      <th>9</th>\n",
       "      <th>...</th>\n",
       "      <th>33</th>\n",
       "      <th>34</th>\n",
       "      <th>35</th>\n",
       "      <th>36</th>\n",
       "      <th>37</th>\n",
       "      <th>38</th>\n",
       "      <th>39</th>\n",
       "      <th>40</th>\n",
       "      <th>41</th>\n",
       "      <th>42</th>\n",
       "    </tr>\n",
       "  </thead>\n",
       "  <tbody>\n",
       "    <tr>\n",
       "      <th>0</th>\n",
       "      <td>-0.101291</td>\n",
       "      <td>0.065685</td>\n",
       "      <td>0.412344</td>\n",
       "      <td>1.172155</td>\n",
       "      <td>1.161031</td>\n",
       "      <td>1.186701</td>\n",
       "      <td>1.154638</td>\n",
       "      <td>-0.285245</td>\n",
       "      <td>0.249007</td>\n",
       "      <td>0.357267</td>\n",
       "      <td>...</td>\n",
       "      <td>-0.168388</td>\n",
       "      <td>-0.170431</td>\n",
       "      <td>0.195980</td>\n",
       "      <td>0.189327</td>\n",
       "      <td>0.195190</td>\n",
       "      <td>0.183640</td>\n",
       "      <td>0.304332</td>\n",
       "      <td>0.282532</td>\n",
       "      <td>-0.018733</td>\n",
       "      <td>-0.042275</td>\n",
       "    </tr>\n",
       "    <tr>\n",
       "      <th>1</th>\n",
       "      <td>-0.101352</td>\n",
       "      <td>0.063690</td>\n",
       "      <td>0.416576</td>\n",
       "      <td>0.951678</td>\n",
       "      <td>0.904449</td>\n",
       "      <td>0.970241</td>\n",
       "      <td>0.875628</td>\n",
       "      <td>-0.285854</td>\n",
       "      <td>0.248377</td>\n",
       "      <td>0.356810</td>\n",
       "      <td>...</td>\n",
       "      <td>-0.168388</td>\n",
       "      <td>-0.170431</td>\n",
       "      <td>0.194043</td>\n",
       "      <td>0.193142</td>\n",
       "      <td>0.193428</td>\n",
       "      <td>0.186709</td>\n",
       "      <td>0.303154</td>\n",
       "      <td>0.284720</td>\n",
       "      <td>-0.022910</td>\n",
       "      <td>-0.034703</td>\n",
       "    </tr>\n",
       "    <tr>\n",
       "      <th>2</th>\n",
       "      <td>-0.101492</td>\n",
       "      <td>0.060301</td>\n",
       "      <td>0.418943</td>\n",
       "      <td>0.957574</td>\n",
       "      <td>0.900517</td>\n",
       "      <td>0.972085</td>\n",
       "      <td>0.884343</td>\n",
       "      <td>-0.286290</td>\n",
       "      <td>0.247874</td>\n",
       "      <td>0.356460</td>\n",
       "      <td>...</td>\n",
       "      <td>-0.168388</td>\n",
       "      <td>-0.170431</td>\n",
       "      <td>0.194959</td>\n",
       "      <td>0.193678</td>\n",
       "      <td>0.193935</td>\n",
       "      <td>0.187178</td>\n",
       "      <td>0.303470</td>\n",
       "      <td>0.285021</td>\n",
       "      <td>-0.021248</td>\n",
       "      <td>-0.033392</td>\n",
       "    </tr>\n",
       "    <tr>\n",
       "      <th>3</th>\n",
       "      <td>-0.101446</td>\n",
       "      <td>0.073061</td>\n",
       "      <td>0.419669</td>\n",
       "      <td>0.959484</td>\n",
       "      <td>0.903943</td>\n",
       "      <td>0.964176</td>\n",
       "      <td>0.869472</td>\n",
       "      <td>-0.286064</td>\n",
       "      <td>0.248079</td>\n",
       "      <td>0.356648</td>\n",
       "      <td>...</td>\n",
       "      <td>-0.168388</td>\n",
       "      <td>-0.170431</td>\n",
       "      <td>0.194501</td>\n",
       "      <td>0.193348</td>\n",
       "      <td>0.193842</td>\n",
       "      <td>0.186955</td>\n",
       "      <td>0.303316</td>\n",
       "      <td>0.284875</td>\n",
       "      <td>-0.022015</td>\n",
       "      <td>-0.033900</td>\n",
       "    </tr>\n",
       "    <tr>\n",
       "      <th>4</th>\n",
       "      <td>-0.101406</td>\n",
       "      <td>0.055003</td>\n",
       "      <td>0.412254</td>\n",
       "      <td>0.941907</td>\n",
       "      <td>0.895574</td>\n",
       "      <td>0.966456</td>\n",
       "      <td>0.880124</td>\n",
       "      <td>-0.285906</td>\n",
       "      <td>0.248283</td>\n",
       "      <td>0.356773</td>\n",
       "      <td>...</td>\n",
       "      <td>-0.168388</td>\n",
       "      <td>-0.170431</td>\n",
       "      <td>0.194126</td>\n",
       "      <td>0.193348</td>\n",
       "      <td>0.193601</td>\n",
       "      <td>0.186721</td>\n",
       "      <td>0.303154</td>\n",
       "      <td>0.284789</td>\n",
       "      <td>-0.022441</td>\n",
       "      <td>-0.034450</td>\n",
       "    </tr>\n",
       "  </tbody>\n",
       "</table>\n",
       "<p>5 rows × 43 columns</p>\n",
       "</div>"
      ],
      "text/plain": [
       "         0         1         2         3         4         5         6   \\\n",
       "0 -0.101291  0.065685  0.412344  1.172155  1.161031  1.186701  1.154638   \n",
       "1 -0.101352  0.063690  0.416576  0.951678  0.904449  0.970241  0.875628   \n",
       "2 -0.101492  0.060301  0.418943  0.957574  0.900517  0.972085  0.884343   \n",
       "3 -0.101446  0.073061  0.419669  0.959484  0.903943  0.964176  0.869472   \n",
       "4 -0.101406  0.055003  0.412254  0.941907  0.895574  0.966456  0.880124   \n",
       "\n",
       "         7         8         9   ...        33        34        35        36  \\\n",
       "0 -0.285245  0.249007  0.357267  ... -0.168388 -0.170431  0.195980  0.189327   \n",
       "1 -0.285854  0.248377  0.356810  ... -0.168388 -0.170431  0.194043  0.193142   \n",
       "2 -0.286290  0.247874  0.356460  ... -0.168388 -0.170431  0.194959  0.193678   \n",
       "3 -0.286064  0.248079  0.356648  ... -0.168388 -0.170431  0.194501  0.193348   \n",
       "4 -0.285906  0.248283  0.356773  ... -0.168388 -0.170431  0.194126  0.193348   \n",
       "\n",
       "         37        38        39        40        41        42  \n",
       "0  0.195190  0.183640  0.304332  0.282532 -0.018733 -0.042275  \n",
       "1  0.193428  0.186709  0.303154  0.284720 -0.022910 -0.034703  \n",
       "2  0.193935  0.187178  0.303470  0.285021 -0.021248 -0.033392  \n",
       "3  0.193842  0.186955  0.303316  0.284875 -0.022015 -0.033900  \n",
       "4  0.193601  0.186721  0.303154  0.284789 -0.022441 -0.034450  \n",
       "\n",
       "[5 rows x 43 columns]"
      ]
     },
     "execution_count": 19,
     "metadata": {},
     "output_type": "execute_result"
    }
   ],
   "source": [
    "#convert the normalized features into a tabular format with the help of DataFrame\n",
    "xC = pd.DataFrame(xC)\n",
    "xC.head()"
   ]
  },
  {
   "cell_type": "code",
   "execution_count": 20,
   "metadata": {
    "collapsed": true,
    "jupyter": {
     "outputs_hidden": true
    }
   },
   "outputs": [
    {
     "name": "stdout",
     "output_type": "stream",
     "text": [
      "(181, 43)\n",
      "Check whether the normalized data has a mean of 0 and a standard deviation of 1\n",
      "0     4.907063e-18\n",
      "1    -3.974721e-16\n",
      "2     1.373978e-16\n",
      "3    -8.096654e-17\n",
      "4    -1.423048e-16\n",
      "5     7.115241e-17\n",
      "6    -7.360595e-17\n",
      "7    -6.526394e-16\n",
      "8     4.318216e-16\n",
      "9     6.938894e-17\n",
      "10   -3.836403e-15\n",
      "11   -3.972268e-15\n",
      "12    2.401241e-15\n",
      "13   -1.251301e-16\n",
      "14   -1.212045e-15\n",
      "15    3.232528e-16\n",
      "16   -5.738274e-15\n",
      "17   -4.308401e-15\n",
      "18   -1.764089e-15\n",
      "19    2.600743e-16\n",
      "20   -4.416357e-17\n",
      "21   -2.502602e-16\n",
      "22    4.023792e-16\n",
      "23   -7.851301e-17\n",
      "24   -1.545725e-16\n",
      "25    4.502230e-16\n",
      "26    4.845725e-16\n",
      "27    1.474611e-16\n",
      "28    1.474611e-16\n",
      "29   -8.219331e-17\n",
      "30   -3.220260e-17\n",
      "31   -1.297305e-16\n",
      "32   -8.556691e-17\n",
      "33    2.212779e-16\n",
      "34    9.683782e-17\n",
      "35    9.470632e-16\n",
      "36    4.416357e-17\n",
      "37    3.533085e-16\n",
      "38   -6.182899e-16\n",
      "39   -4.416357e-17\n",
      "40    1.005948e-16\n",
      "41    3.715567e-16\n",
      "42    4.529833e-16\n",
      "dtype: float64 0     1.0\n",
      "1     1.0\n",
      "2     1.0\n",
      "3     1.0\n",
      "4     1.0\n",
      "5     1.0\n",
      "6     1.0\n",
      "7     1.0\n",
      "8     1.0\n",
      "9     1.0\n",
      "10    1.0\n",
      "11    1.0\n",
      "12    1.0\n",
      "13    1.0\n",
      "14    1.0\n",
      "15    1.0\n",
      "16    1.0\n",
      "17    1.0\n",
      "18    1.0\n",
      "19    1.0\n",
      "20    1.0\n",
      "21    1.0\n",
      "22    1.0\n",
      "23    1.0\n",
      "24    1.0\n",
      "25    1.0\n",
      "26    1.0\n",
      "27    1.0\n",
      "28    1.0\n",
      "29    1.0\n",
      "30    1.0\n",
      "31    1.0\n",
      "32    1.0\n",
      "33    1.0\n",
      "34    1.0\n",
      "35    1.0\n",
      "36    1.0\n",
      "37    1.0\n",
      "38    1.0\n",
      "39    1.0\n",
      "40    1.0\n",
      "41    1.0\n",
      "42    1.0\n",
      "dtype: float64\n"
     ]
    }
   ],
   "source": [
    "print(xC.shape)\n",
    "print(\"Check whether the normalized data has a mean of 0 and a standard deviation of 1\")\n",
    "print(np.mean(xC),np.std(xC))"
   ]
  },
  {
   "cell_type": "markdown",
   "metadata": {},
   "source": [
    "From the output, we succesfully transform dataset C where the mean is about 0 and the standard deviation is 1"
   ]
  },
  {
   "cell_type": "markdown",
   "metadata": {},
   "source": [
    "## Dimensionality Reduction V1"
   ]
  },
  {
   "cell_type": "markdown",
   "metadata": {},
   "source": [
    "There are 43 features + 1 class in the original data. So PCA will provide the same number of principal components (43)."
   ]
  },
  {
   "cell_type": "code",
   "execution_count": 49,
   "metadata": {},
   "outputs": [],
   "source": [
    "from sklearn.decomposition import PCA\n",
    "# applying PCA function on xC\n",
    "# fit_transform: Fit to data, then transform it.\n",
    "# Fit: Compute the mean and std to be used for later scaling\n",
    "# Transform: Perform standardization by centering and scaling\n",
    "pcaC1 = PCA(n_components = 5)\n",
    "pcaC1_result = pcaC1.fit_transform(xCnoscale)"
   ]
  },
  {
   "cell_type": "code",
   "execution_count": 55,
   "metadata": {},
   "outputs": [
    {
     "name": "stdout",
     "output_type": "stream",
     "text": [
      "\n",
      " What are the variances explained by each of the principal components? \n",
      " Use explained_variance_ratio_ to return a vector of the variance:\n",
      "\n",
      "-->Explained variation per principal component: [0.62439222 0.16845392 0.11640261 0.04345773 0.02511493]\n"
     ]
    }
   ],
   "source": [
    "print(\"\\n What are the variances explained by each of the principal components? \\n Use explained_variance_ratio_ to return a vector of the variance:\\n\")\n",
    "#It will provide us with the amount of information or variance of each \n",
    "#principal component holds after projecting the data to a lower dimensional subspace\n",
    "#print('-->principal component: {}'.format(pcaC2.components_))\n",
    "print('-->Explained variation per principal component: {}'.format(pcaC1.explained_variance_ratio_))"
   ]
  },
  {
   "cell_type": "markdown",
   "metadata": {
    "jupyter": {
     "source_hidden": true
    }
   },
   "source": [
    "It shows the first principal component accounts for 62.4% variance, PC2 16.8%, PC3 11.6%, PC4 4.4% and the rest as listed.  \n",
    "The variance is visualized in the next section. "
   ]
  },
  {
   "cell_type": "markdown",
   "metadata": {
    "jupyter": {
     "source_hidden": true
    }
   },
   "source": [
    "We want to keep only the significant features and drop the insignificant ones. A rule of thumb is to keep the top principal components that capture significant variance and ignore the small ones.  \n",
    "\n",
    "Sumary: variables with a low variance will not affect the target variable\n",
    "\n",
    "Note:\n",
    "1. A principal component is a linear combination of the original variables\n",
    "2. Principal components are extracted in such a way that the first principal component explains maximum variance in the dataset. In other words, PCA looks for uncorrelated factors.\n",
    "3. Second principal component tries to explain the remaining variance in the dataset and is uncorrelated to the first principal component\n",
    "4. Third principal component tries to explain the variance which is not explained by the first two principal components and so on"
   ]
  },
  {
   "cell_type": "markdown",
   "metadata": {
    "collapsed": "true"
   },
   "source": [
    "### Visualize PCA V1\n",
    "We visualize how much variance has been explained using ALL components"
   ]
  },
  {
   "cell_type": "code",
   "execution_count": 51,
   "metadata": {},
   "outputs": [
    {
     "data": {
      "image/png": "[encoded data removed]",
      "text/plain": [
       "<Figure size 432x288 with 1 Axes>"
      ]
     },
     "metadata": {
      "needs_background": "light"
     },
     "output_type": "display_data"
    }
   ],
   "source": [
    "### Component-wise and Cumulative Explained Variance\n",
    "plt.plot(np.cumsum(np.round(pcaC1.explained_variance_ratio_, decimals=4)*100))\n",
    "plt.plot(pcaC1.explained_variance_ratio_*100)\n",
    "plt.title(\"Component-wise and Cumulative Explained Variance\")\n",
    "plt.grid(linestyle='-', linewidth=0.5)"
   ]
  },
  {
   "cell_type": "markdown",
   "metadata": {},
   "source": [
    "Blue line represents cumulative explained variance.  \n",
    "Orange line represents component-wise explained variance.  \n",
    "Looking at the above plot, we should take 5 variables to reduce the features."
   ]
  },
  {
   "cell_type": "markdown",
   "metadata": {
    "heading_collapsed": true
   },
   "source": [
    "## Dimensionality Reduction V2\n",
    "Following section will utilise PCA=5 components"
   ]
  },
  {
   "cell_type": "code",
   "execution_count": 57,
   "metadata": {
    "hidden": true
   },
   "outputs": [],
   "source": [
    "from sklearn.decomposition import PCA\n",
    "pcaC2 = PCA(n_components=15)\n",
    "pcaC2_result = pcaC2.fit_transform(xC)"
   ]
  },
  {
   "cell_type": "code",
   "execution_count": 58,
   "metadata": {
    "collapsed": true,
    "jupyter": {
     "outputs_hidden": true
    }
   },
   "outputs": [
    {
     "name": "stdout",
     "output_type": "stream",
     "text": [
      "          0         1         2         3         4         5         6  \\\n",
      "0 -1.246676 -1.149373  0.205732  0.936268 -1.803094  0.214258  0.357266   \n",
      "1 -1.215448 -1.101925  0.201127  0.676387 -1.414100  0.117727  0.203822   \n",
      "2 -1.227410 -1.111212  0.195800  0.677728 -1.424374  0.106673  0.211463   \n",
      "3 -1.235507 -1.111011  0.182921  0.663769 -1.412446  0.106879  0.189654   \n",
      "4 -1.201433 -1.096032  0.202375  0.687303 -1.405956  0.109075  0.231630   \n",
      "\n",
      "          7         8         9        10        11        12        13  \\\n",
      "0 -0.466043 -0.035096  0.303639  0.440516  0.297633 -0.060497  0.162799   \n",
      "1 -0.281379 -0.043762  0.202055  0.306268  0.235202 -0.044282  0.134898   \n",
      "2 -0.283392 -0.051756  0.204553  0.302018  0.229214 -0.042634  0.140806   \n",
      "3 -0.277144 -0.048421  0.189111  0.287457  0.230603 -0.032685  0.149512   \n",
      "4 -0.276282 -0.057004  0.222356  0.319643  0.228440 -0.046342  0.129947   \n",
      "\n",
      "         14  \n",
      "0 -0.017268  \n",
      "1 -0.019726  \n",
      "2 -0.013176  \n",
      "3 -0.010927  \n",
      "4 -0.028238  \n"
     ]
    }
   ],
   "source": [
    "#create a DataFrame that will have the principal component values for all 181 samples\n",
    "principalC2 = pd.DataFrame(data = pcaC2_result)\n",
    "print(principalC2.head())"
   ]
  },
  {
   "cell_type": "code",
   "execution_count": 59,
   "metadata": {
    "hidden": true
   },
   "outputs": [
    {
     "name": "stdout",
     "output_type": "stream",
     "text": [
      "\n",
      " What are the variances explained by each of the principal components? \n",
      " Use explained_variance_ratio_ to return a vector of the variance:\n",
      "\n",
      "-->Explained variation per principal component: [0.26910032 0.18418776 0.12245561 0.09257034 0.07397715 0.05191244\n",
      " 0.04731158 0.03388811 0.02637339 0.0203122  0.01905894 0.01551197\n",
      " 0.01094624 0.00819816 0.00766617]\n"
     ]
    }
   ],
   "source": [
    "print(\"\\n What are the variances explained by each of the principal components? \\n Use explained_variance_ratio_ to return a vector of the variance:\\n\")\n",
    "#It will provide us with the amount of information or variance of each \n",
    "#principal component holds after projecting the data to a lower dimensional subspace\n",
    "#print('-->principal component: {}'.format(pcaC2.components_))\n",
    "print('-->Explained variation per principal component: {}'.format(pcaC2.explained_variance_ratio_))"
   ]
  },
  {
   "cell_type": "markdown",
   "metadata": {},
   "source": [
    "- From the output, the PC1 accounts for 26.9% variance and PC2 18.4%.  \n",
    "- Other point to note is that while projecting thirty-dimensional data to a two-dimensional data, 54.7% information was lost"
   ]
  },
  {
   "cell_type": "markdown",
   "metadata": {
    "collapsed": "true"
   },
   "source": [
    "### Visualize PCA V2"
   ]
  },
  {
   "cell_type": "code",
   "execution_count": 45,
   "metadata": {},
   "outputs": [
    {
     "data": {
      "image/png": "[encoded data removed]",
      "text/plain": [
       "<Figure size 432x288 with 1 Axes>"
      ]
     },
     "metadata": {
      "needs_background": "light"
     },
     "output_type": "display_data"
    }
   ],
   "source": [
    "#Component-wise and Cumulative Explained Variance\n",
    "plt.plot(range(15), pcaC2.explained_variance_ratio_)\n",
    "plt.plot(range(15), np.cumsum(pcaC2.explained_variance_ratio_))\n",
    "plt.title(\"Component-wise and Cumulative Explained Variance\")\n",
    "plt.grid(linestyle='-', linewidth=0.5)"
   ]
  },
  {
   "cell_type": "code",
   "execution_count": null,
   "metadata": {},
   "outputs": [],
   "source": [
    "dfCplot = dfC\n",
    "dfCplot['class'].replace(1, 'healthy',inplace=True)\n",
    "dfCplot['class'].replace(2, 'gasinj',inplace=True)\n",
    "dfCplot['class'].replace(3, 'insteff',inplace=True)\n",
    "dfCplot['class'].replace(4, 'wax',inplace=True)\n",
    "dfCplot.tail()"
   ]
  },
  {
   "cell_type": "code",
   "execution_count": 47,
   "metadata": {},
   "outputs": [
    {
     "name": "stderr",
     "output_type": "stream",
     "text": [
      "C:\\Users\\SMFIRDAUS\\miniconda3\\envs\\ds\\lib\\site-packages\\pandas\\core\\ops\\array_ops.py:253: FutureWarning:\n",
      "\n",
      "elementwise comparison failed; returning scalar instead, but in the future will perform elementwise comparison\n",
      "\n"
     ]
    },
    {
     "ename": "TypeError",
     "evalue": "scatter() missing 1 required positional argument: 'y'",
     "output_type": "error",
     "traceback": [
      "\u001b[1;31m---------------------------------------------------------------------------\u001b[0m",
      "\u001b[1;31mTypeError\u001b[0m                                 Traceback (most recent call last)",
      "\u001b[1;32m<ipython-input-47-59a6e6423ce3>\u001b[0m in \u001b[0;36m<module>\u001b[1;34m\u001b[0m\n\u001b[0;32m     10\u001b[0m \u001b[1;32mfor\u001b[0m \u001b[0mtarget\u001b[0m\u001b[1;33m,\u001b[0m \u001b[0mcolor\u001b[0m \u001b[1;32min\u001b[0m \u001b[0mzip\u001b[0m\u001b[1;33m(\u001b[0m\u001b[0mtargets\u001b[0m\u001b[1;33m,\u001b[0m\u001b[0mcolors\u001b[0m\u001b[1;33m)\u001b[0m\u001b[1;33m:\u001b[0m\u001b[1;33m\u001b[0m\u001b[1;33m\u001b[0m\u001b[0m\n\u001b[0;32m     11\u001b[0m     \u001b[0mindicesToKeep\u001b[0m \u001b[1;33m=\u001b[0m \u001b[0mdfC\u001b[0m\u001b[1;33m[\u001b[0m\u001b[1;34m'class'\u001b[0m\u001b[1;33m]\u001b[0m \u001b[1;33m==\u001b[0m \u001b[0mtarget\u001b[0m\u001b[1;33m\u001b[0m\u001b[1;33m\u001b[0m\u001b[0m\n\u001b[1;32m---> 12\u001b[1;33m     plt.scatter(principalC2.loc[indicesToKeep,]\n\u001b[0m\u001b[0;32m     13\u001b[0m                \u001b[1;31m#, principalC2.loc[indicesToKeep, 'PC2']\u001b[0m\u001b[1;33m\u001b[0m\u001b[1;33m\u001b[0m\u001b[1;33m\u001b[0m\u001b[0m\n\u001b[0;32m     14\u001b[0m                 , c = color, s = 50)\n",
      "\u001b[1;31mTypeError\u001b[0m: scatter() missing 1 required positional argument: 'y'"
     ]
    },
    {
     "data": {
      "text/plain": [
       "<Figure size 432x288 with 0 Axes>"
      ]
     },
     "metadata": {},
     "output_type": "display_data"
    },
    {
     "data": {
      "image/png": "[encoded data removed]",
      "text/plain": [
       "<Figure size 576x576 with 1 Axes>"
      ]
     },
     "metadata": {
      "needs_background": "light"
     },
     "output_type": "display_data"
    }
   ],
   "source": [
    "plt.figure()\n",
    "plt.figure(figsize=(8,8))\n",
    "plt.xticks(fontsize=12)\n",
    "plt.yticks(fontsize=14)\n",
    "plt.xlabel('Principal Component 1',fontsize=15)\n",
    "plt.ylabel('Principal Component 2',fontsize=15)\n",
    "plt.title(\"Principal Component Analysis of USM Diagnostic Dataset\",fontsize=20)\n",
    "targets = ['healthy', 'gasinj', 'insteff', 'wax']\n",
    "colors = ['r', 'g', 'b', 'y']\n",
    "for target, color in zip(targets,colors):\n",
    "    indicesToKeep = dfC['class'] == target\n",
    "    plt.scatter(principalC2.loc[indicesToKeep,]\n",
    "               #, principalC2.loc[indicesToKeep, 'PC2']\n",
    "                , c = color, s = 50)\n",
    "import warnings\n",
    "with warnings.catch_warnings():\n",
    "    warnings.simplefilter(action='ignore', category=FutureWarning)\n",
    "    plt.legend(targets,prop={'size': 15})"
   ]
  },
  {
   "cell_type": "code",
   "execution_count": null,
   "metadata": {},
   "outputs": [],
   "source": [
    "C2_comp = pd.DataFrame(pcaC2.components_, columns =dfC.columns[0:43]) \n",
    "plt.figure(figsize =(8, 6)) \n",
    "sns.heatmap(C2_comp) "
   ]
  },
  {
   "cell_type": "code",
   "execution_count": null,
   "metadata": {
    "hidden": true
   },
   "outputs": [],
   "source": [
    "#concat before graphing\n",
    "finalDfC2 = pd.concat([principalC2, dfC[['class']]], axis = 1)\n",
    "#alternative code\n",
    "#principalC2[‘class’]=y\n",
    "#principalC2.columns = [‘PC1’,’PC2',’PC3',’target’]\n",
    "#principalC2.head()\n",
    "finalDfC2.tail()"
   ]
  },
  {
   "cell_type": "markdown",
   "metadata": {
    "collapsed": "true"
   },
   "source": [
    "## Dimensionality Reduction V3\n",
    "Following section will utilize "
   ]
  },
  {
   "cell_type": "code",
   "execution_count": null,
   "metadata": {},
   "outputs": [],
   "source": [
    "pcaC3 = PCA(n_components=3)\n",
    "principalComponents_C3 = pcaC3.fit_transform(xC)"
   ]
  },
  {
   "cell_type": "code",
   "execution_count": null,
   "metadata": {},
   "outputs": [],
   "source": [
    "#create a DataFrame that will have the principal component values for all 181 samples\n",
    "principalC3 = pd.DataFrame(data = principalComponents_C3, columns = ['PC1', 'PC2', 'PC3'])\n",
    "print(principalC3.tail())"
   ]
  },
  {
   "cell_type": "code",
   "execution_count": null,
   "metadata": {},
   "outputs": [],
   "source": [
    "print(\"\\nWhat are the variances explained by each of the principal components?\")\n",
    "#It will provide us with the amount of information or variance each \n",
    "#principal component holds after projecting the data to a lower dimensional subspace\n",
    "print('-->Explained variation per principal component: {}'.format(pcaC3.explained_variance_ratio_))"
   ]
  },
  {
   "cell_type": "markdown",
   "metadata": {},
   "source": [
    "- From the output, the PC1 accounts for 26.9% variance, PC2 18.4%, and PC3 12.2%.  \n",
    "- Other point to note is that while projecting thirty-dimensional data to a two-dimensional data, 42.5% information was lost"
   ]
  },
  {
   "cell_type": "markdown",
   "metadata": {
    "collapsed": "true"
   },
   "source": [
    "### Visualize PCA V3"
   ]
  },
  {
   "cell_type": "code",
   "execution_count": null,
   "metadata": {},
   "outputs": [],
   "source": [
    "%matplotlib inline\n",
    "plt.figure()\n",
    "plt.figure(figsize=(8,8))\n",
    "plt.xticks(fontsize=12)\n",
    "plt.yticks(fontsize=14)\n",
    "plt.xlabel('Principal Component 1',fontsize=15)\n",
    "plt.ylabel('Principal Component 2',fontsize=15)\n",
    "plt.zlabel('Principal Component 3',fontsize=15)\n",
    "plt.title(\"Principal Component Analysis of USM Diagnostic Dataset\",fontsize=20)\n",
    "targets = ['healthy', 'gasinj', 'insteff', 'wax']\n",
    "colors = ['r', 'g', 'b', 'y']\n",
    "for target, color in zip(targets,colors):\n",
    "    indicesToKeep = dfC['class'] == target\n",
    "    plt.scatter(principalC3.loc[indicesToKeep, 'PC1']\n",
    "               , principalC3.loc[indicesToKeep, 'PC2']\n",
    "                , principalC3.loc[indicesToKeep, 'PC3']\n",
    "                , c = color, s = 50)\n",
    "import warnings\n",
    "with warnings.catch_warnings():\n",
    "    warnings.simplefilter(action='ignore', category=FutureWarning)\n",
    "    plt.legend(targets,prop={'size': 15})"
   ]
  },
  {
   "cell_type": "markdown",
   "metadata": {
    "collapsed": "true"
   },
   "source": [
    "## Dimensionality Reduction V4"
   ]
  },
  {
   "cell_type": "code",
   "execution_count": null,
   "metadata": {},
   "outputs": [],
   "source": [
    "pcaC4 = PCA(n_components=3)\n",
    "principalComponents_C4 = pcaC4.fit_transform(xC)"
   ]
  },
  {
   "cell_type": "code",
   "execution_count": null,
   "metadata": {},
   "outputs": [],
   "source": [
    "#create a DataFrame that will have the principal component values for all 181 samples\n",
    "principalC4 = pd.DataFrame(data = principalComponents_C4, columns = ['PC1', 'PC2', 'PC3'])\n",
    "print(principalC4.tail())"
   ]
  },
  {
   "cell_type": "code",
   "execution_count": null,
   "metadata": {},
   "outputs": [],
   "source": [
    "from mpl_toolkits.mplot3d import Axes3D\n",
    "fig = plt.figure(1, figsize=(4, 3))\n",
    "plt.clf()\n",
    "ax = Axes3D(fig, rect=[0, 0, .95, 1], elev=48, azim=134)"
   ]
  },
  {
   "cell_type": "code",
   "execution_count": null,
   "metadata": {},
   "outputs": [],
   "source": [
    "targets = ['healthy', 'gasinj', 'insteff', 'wax']\n",
    "colors = ['r', 'g', 'b', 'y']\n",
    "for target, color in zip(targets,colors):\n",
    "    y = dfCplot['class'] == target\n",
    "    ax.text3D(principalC4.loc[y == target, 'PC1'].mean(),\n",
    "              principalC4.loc[y == target, 'PC2'].mean() + 1.5,\n",
    "              principalC4.loc[y == target, 'PC3'].mean(), name,\n",
    "              horizontalalignment='center',bbox=dict(alpha=.5, edgecolor='w', facecolor='w'))\n",
    "# Reorder the labels to have colors matching the cluster results\n",
    "y = np.choose(y, [1, 2, 0]).astype(np.float)\n",
    "ax.scatter(principalC4.loc[:, 'PC1'],\n",
    "           principalC4.loc[:, 'PC2'],\n",
    "           principalC4.loc[:, 'PC2'],\n",
    "           principalC4.loc[:, 'PC3'],\n",
    "           c=y,cmap=plt.cm.nipy_spectral, edgecolor='k')\n",
    "\n",
    "ax.w_xaxis.set_ticklabels([])\n",
    "ax.w_yaxis.set_ticklabels([])\n",
    "ax.w_zaxis.set_ticklabels([])\n",
    "\n",
    "plt.show()"
   ]
  },
  {
   "cell_type": "markdown",
   "metadata": {
    "collapsed": "true",
    "heading_collapsed": true
   },
   "source": [
    "# MODELING\n",
    "ML techniques/assumption, test design, model building, and model validation/assessment"
   ]
  },
  {
   "cell_type": "markdown",
   "metadata": {
    "hidden": true
   },
   "source": [
    "## Bayes classification\n"
   ]
  },
  {
   "cell_type": "markdown",
   "metadata": {
    "hidden": true
   },
   "source": [
    "## k-Nearest Neighbor (kNN)"
   ]
  },
  {
   "cell_type": "markdown",
   "metadata": {
    "hidden": true
   },
   "source": [
    "## Support Vector Machine (SVM)"
   ]
  },
  {
   "cell_type": "markdown",
   "metadata": {
    "hidden": true
   },
   "source": [
    "## Random Forest"
   ]
  },
  {
   "cell_type": "markdown",
   "metadata": {
    "hidden": true
   },
   "source": [
    "## Artificial Neural Network (ANN)"
   ]
  },
  {
   "cell_type": "markdown",
   "metadata": {
    "heading_collapsed": true
   },
   "source": [
    "# EVALUATION\n",
    "assessment of results"
   ]
  },
  {
   "cell_type": "markdown",
   "metadata": {
    "hidden": true
   },
   "source": [
    "## Accuracy"
   ]
  },
  {
   "cell_type": "markdown",
   "metadata": {
    "hidden": true
   },
   "source": [
    "## Confusion matrix  "
   ]
  },
  {
   "cell_type": "markdown",
   "metadata": {
    "hidden": true
   },
   "source": [
    "## Area Under Curve (AUC)  "
   ]
  },
  {
   "cell_type": "markdown",
   "metadata": {
    "hidden": true
   },
   "source": [
    "## F-measure (or F-score)"
   ]
  }
 ],
 "metadata": {
  "kernelspec": {
   "display_name": "Python 3",
   "language": "python",
   "name": "python3"
  },
  "language_info": {
   "codemirror_mode": {
    "name": "ipython",
    "version": 3
   },
   "file_extension": ".py",
   "mimetype": "text/x-python",
   "name": "python",
   "nbconvert_exporter": "python",
   "pygments_lexer": "ipython3",
   "version": "3.8.5"
  },
  "toc": {
   "base_numbering": 1,
   "nav_menu": {},
   "number_sections": true,
   "sideBar": true,
   "skip_h1_title": false,
   "title_cell": "Table of Contents",
   "title_sidebar": "Contents",
   "toc_cell": true,
   "toc_position": {},
   "toc_section_display": true,
   "toc_window_display": false
  }
 },
 "nbformat": 4,
 "nbformat_minor": 4
}
